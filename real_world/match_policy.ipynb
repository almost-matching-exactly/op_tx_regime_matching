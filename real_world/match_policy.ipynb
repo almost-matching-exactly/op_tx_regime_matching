{
 "cells": [
  {
   "cell_type": "markdown",
   "id": "09e7c3ae-d1a2-4187-8eb0-28f136c18784",
   "metadata": {},
   "source": [
    "# Towards Safe and Interpretable Optimal Treatment Regime Estimation Using Mechanistic Modeling and Interpolation\n",
    "This notebook implements the optimal regime estimation method via nearest neighbors estimation"
   ]
  },
  {
   "cell_type": "markdown",
   "id": "85d65f2a-9cfc-45be-9794-6ed005cdb9d4",
   "metadata": {},
   "source": [
    "Let's first load the necessary libraries and source files"
   ]
  },
  {
   "cell_type": "code",
   "execution_count": null,
   "id": "0cf269b5-8909-4b15-9810-d9883b27cac0",
   "metadata": {
    "tags": []
   },
   "outputs": [],
   "source": [
    "%load_ext lab_black\n",
    "# I use Lab Black to format my code. A well formatted code is the answer to happy living.\n",
    "import pickle\n",
    "import numpy as np\n",
    "import pandas as pd\n",
    "import matplotlib.pyplot as plt\n",
    "import tqdm\n",
    "import helper\n",
    "import importlib\n",
    "import sklearn.linear_model as lm\n",
    "import sklearn.tree as tree\n",
    "import sklearn.ensemble as en\n",
    "from tabulate import tabulate\n",
    "import seaborn as sns\n",
    "from sklearn.model_selection import StratifiedKFold\n",
    "\n",
    "\n",
    "sns.set(style=\"whitegrid\", font_scale=2)\n",
    "\n",
    "importlib.reload(helper)\n",
    "\n",
    "import warnings\n",
    "\n",
    "warnings.filterwarnings(\"ignore\")"
   ]
  },
  {
   "cell_type": "markdown",
   "id": "fe3d09b7-6467-410c-b313-178bbea07c16",
   "metadata": {},
   "source": [
    "Now we will load data from dataset.csv file in the main folder. For replicability of our results, we set a random seed. I love 42 - it is answer to the Ultimate Question of Life, the Universe, and Everything"
   ]
  },
  {
   "cell_type": "code",
   "execution_count": null,
   "id": "7b740245-1c26-46f2-b3ba-5a9264e1e384",
   "metadata": {
    "tags": []
   },
   "outputs": [],
   "source": [
    "# Read the dataset from the CSV file located in the parent directory\n",
    "np.random.seed(42)\n",
    "df = pd.read_csv(\"../dataset.csv\")  # load the dataset\n",
    "df = df.set_index(\"SID\")  # setting patient id as the unique ID\n",
    "uniq_sids = np.unique(df.index)  # find the unique patient IDs\n",
    "\n",
    "df_params = pd.read_csv(\n",
    "    \"pd_params.csv\", index_col=0\n",
    ")  # load pharmacodynamics parameters estimated at an earlier stage"
   ]
  },
  {
   "cell_type": "code",
   "execution_count": null,
   "id": "bc660bf7-fe55-4e55-b002-1fd355cdf382",
   "metadata": {
    "tags": []
   },
   "outputs": [],
   "source": [
    "pd.concat([df_params.mean(), df_params.std()], axis=1)\n",
    "fig, ax = plt.subplots(ncols=3, figsize=(20, 6), dpi=800)\n",
    "sns.boxplot(\n",
    "    df_params[[\"propofol_50\", \"levetiracetam_50\"]].rename(\n",
    "        columns=lambda x: \"propofol\" if \"propofol\" in x else \"levetiracetam\"\n",
    "    ),\n",
    "    ax=ax[0],\n",
    "    showfliers=False,\n",
    ")\n",
    "ax[0].set_ylabel(\"ED50\")\n",
    "sns.boxplot(\n",
    "    df_params[[\"propofol_Hill\", \"levetiracetam_Hill\"]].rename(\n",
    "        columns=lambda x: \"propofol\" if \"propofol\" in x else \"levetiracetam\"\n",
    "    ),\n",
    "    ax=ax[1],\n",
    "    showfliers=False,\n",
    ")\n",
    "ax[1].set_ylabel(r\"$\\alpha$   or   Hill Coefficient\")\n",
    "\n",
    "sns.boxplot(\n",
    "    df_params[[\"baseline_avg\"]].rename(columns=lambda x: \"\"),\n",
    "    ax=ax[2],\n",
    "    showfliers=False,\n",
    "    color=\"C2\",\n",
    ")\n",
    "ax[2].set_ylabel(r\"$\\beta$\")\n",
    "ax[2].set_ylim(0, 1.05)\n",
    "\n",
    "plt.tight_layout()\n",
    "fig.savefig(\"PD_estimates.pdf\")"
   ]
  },
  {
   "cell_type": "code",
   "execution_count": null,
   "id": "c0cfc955-1925-44b4-8531-c5044d24d9f7",
   "metadata": {
    "tags": []
   },
   "outputs": [],
   "source": [
    "X = df[[col for col in df.columns if \"C_imputed_\" in col]].groupby(by=\"SID\").mean()\n",
    "X_wo_params = X.copy(deep=True)\n",
    "X = X.join(df_params).dropna()  # X are pre-treatment covariates\n",
    "X_normalized = helper.normalize(X)\n",
    "X_normalized_2 = helper.normalize(X_wo_params)\n",
    "\n",
    "Y = (df[[\"Y\"]].groupby(by=\"SID\").mean() > 4).loc[\n",
    "    X.index\n",
    "]  # Y is binarized mRS score - our outcome of interest. 0 is good and 1 is bad."
   ]
  },
  {
   "cell_type": "markdown",
   "id": "77e5077f-7a3c-480b-b3a0-b19c9ebb4dc2",
   "metadata": {
    "tags": []
   },
   "source": [
    "### Estimating $\\pi$"
   ]
  },
  {
   "cell_type": "markdown",
   "id": "e737ccf5-1ecc-4de8-8edc-281faa333bb6",
   "metadata": {},
   "source": [
    "Now, we will estimate the observed policy for each unit for both the drugs of our interest"
   ]
  },
  {
   "cell_type": "code",
   "execution_count": null,
   "id": "c6c3971d-d45c-47bc-982f-833e81cfae62",
   "metadata": {
    "tags": []
   },
   "outputs": [],
   "source": [
    "m_prop, m_lev = ([], [])  # initiating the list of policies per patient\n",
    "score_prop = []\n",
    "for i in tqdm.tqdm(range(uniq_sids.shape[0])):\n",
    "    df_i = df.loc[\n",
    "        uniq_sids[i]\n",
    "    ]  # fetching the dataset specific to a patient. Each row is a time point\n",
    "\n",
    "    v_i_prop = helper.get_features_prop(\n",
    "        df_i\n",
    "    )  # summarizing the EA burden timeseries to get state space representation\n",
    "\n",
    "    v_i_lev = helper.get_features_lev(\n",
    "        df_i\n",
    "    )  # summarizing the EA burden timeseries to get state space representation\n",
    "\n",
    "    m_prop_i = lm.RidgeCV(fit_intercept=False).fit(\n",
    "        v_i_prop.drop(columns=[\"Prop_Act\"]), v_i_prop[\"Prop_Act\"]\n",
    "    )  # fitting a regression to estimate the observed policy for propofol\n",
    "\n",
    "    m_lev_i = lm.RidgeCV(fit_intercept=False).fit(\n",
    "        v_i_lev.drop(columns=[\"Lev_Act\"]), v_i_lev[\"Lev_Act\"]\n",
    "    )  # fitting a regression to estimate the observed policy for levetiracetam\n",
    "\n",
    "    m_prop.append(m_prop_i.coef_)\n",
    "    m_lev.append(m_lev_i.coef_)\n",
    "    score_prop.append(\n",
    "        m_prop_i.score(v_i_prop.drop(columns=[\"Prop_Act\"]), v_i_prop[\"Prop_Act\"])\n",
    "    )\n",
    "m_prop = pd.DataFrame(\n",
    "    np.array(m_prop),\n",
    "    columns=v_i_prop.drop(columns=[\"Prop_Act\"]).columns,\n",
    "    index=uniq_sids,\n",
    ")  # constructing the results dataframe for propofol\n",
    "m_lev = pd.DataFrame(\n",
    "    np.array(m_lev),\n",
    "    columns=v_i_lev.drop(columns=[\"Lev_Act\"]).columns,\n",
    "    index=uniq_sids,\n",
    ")  # constructing the results dataframe for levetiracetam"
   ]
  },
  {
   "cell_type": "code",
   "execution_count": null,
   "id": "a1868b58-aa85-4912-adbe-3a6cd5694e6e",
   "metadata": {
    "tags": []
   },
   "outputs": [],
   "source": [
    "T = (\n",
    "    m_prop.join(m_lev, lsuffix=\" [prop]\", rsuffix=\" [lev]\").loc[X.index].round(1)\n",
    ")  # constructing a vector of treatment where each row is a unit and columns are the coefficients of the estimated observed policy for both the drugs -- propofol followed by levetiracetam"
   ]
  },
  {
   "cell_type": "markdown",
   "id": "7b7a6ec7-2914-4f58-9a21-a70f57b04971",
   "metadata": {},
   "source": [
    "Visualizing the avg. observed policy for propofol"
   ]
  },
  {
   "cell_type": "code",
   "execution_count": null,
   "id": "f8f8edc1-bf37-4e3f-acda-7b848cc74021",
   "metadata": {
    "tags": []
   },
   "outputs": [],
   "source": [
    "import seaborn as sns\n",
    "\n",
    "sns.set(style=\"whitegrid\", font_scale=1.5)\n",
    "fig, ax = plt.subplots(figsize=(20, 5))\n",
    "obs_policy = (\n",
    "    pd.concat([T.mean(), T.sem()], axis=1)\n",
    "    .round(2)\n",
    "    .rename(columns={0: \"avg\", 1: \"std.err\"})\n",
    "    .sort_values(by=\"avg\", ascending=False)\n",
    ")\n",
    "\n",
    "obs_policy.loc[[c for c in obs_policy.index if \"[prop]\" in c], \"avg\"].plot(kind=\"bar\")"
   ]
  },
  {
   "cell_type": "code",
   "execution_count": null,
   "id": "9a54504d-34fb-4f5d-9e29-77d48e7a2870",
   "metadata": {
    "tags": []
   },
   "outputs": [],
   "source": [
    "pd.concat([T.mean(), T.std()], axis=1).loc[\n",
    "    [col for col in T.columns if \"[prop]\" in col]\n",
    "]"
   ]
  },
  {
   "cell_type": "code",
   "execution_count": null,
   "id": "7aff9456-e872-44ce-895e-4be2ad931833",
   "metadata": {
    "tags": []
   },
   "outputs": [],
   "source": [
    "import seaborn as sns\n",
    "\n",
    "sns.set(style=\"whitegrid\", font_scale=1.5)\n",
    "fig, ax = plt.subplots(figsize=(20, 5))\n",
    "obs_policy = (\n",
    "    pd.concat([T.mean(), T.sem()], axis=1)\n",
    "    .round(2)\n",
    "    .rename(columns={0: \"avg\", 1: \"std.err\"})\n",
    "    .sort_values(by=\"avg\", ascending=False)\n",
    ")\n",
    "\n",
    "obs_policy.loc[[c for c in obs_policy.index if \"[lev]\" in c], \"avg\"].plot(kind=\"bar\")"
   ]
  },
  {
   "cell_type": "markdown",
   "id": "f074a189-08d4-4307-8685-75c302c0b4bd",
   "metadata": {
    "tags": []
   },
   "source": [
    "### Matching Step"
   ]
  },
  {
   "cell_type": "markdown",
   "id": "66765950-cc3d-4cf5-adb3-5de8425e3f42",
   "metadata": {
    "tags": []
   },
   "source": [
    "Next, we group the data by patient ID. We need to do this because each time stamp is a row in the original data. We do this to extract pre-treatment covariates and post-discharge outcome that are not time varying\n",
    "We follow this by performing the Matching."
   ]
  },
  {
   "cell_type": "markdown",
   "id": "9dae29ab-5d26-4423-a765-1c84a63b3e25",
   "metadata": {},
   "source": [
    "#### Estimating $\\pi^{opt}$"
   ]
  },
  {
   "cell_type": "code",
   "execution_count": null,
   "id": "fd1bace8-2ae8-474a-bc48-cd3c382e0cf1",
   "metadata": {
    "tags": []
   },
   "outputs": [],
   "source": [
    "# We use Model-to-Match-esque method to learn the distance metric for matching. We run the non-parametric regression to estimate E[ Y | X]. We use the variable importances from this non-parametric regression to inform our distance metric\n",
    "# m_dist_metric = lm.LassoCV().fit(X, Y)\n",
    "np.random.seed(42)\n",
    "skf = StratifiedKFold(n_splits=3)\n",
    "opt_mean_policy_array = []\n",
    "df_y_array = []\n",
    "indices = X_normalized.index\n",
    "for i, (e_index, t_index) in enumerate(skf.split(X, Y)):\n",
    "    train_index = indices[t_index]\n",
    "    est_index = indices[e_index]\n",
    "    m_dist_metric = en.GradientBoostingClassifier(max_depth=1, n_estimators=100).fit(\n",
    "        X_normalized.loc[train_index], Y.loc[train_index]\n",
    "    )\n",
    "    dist_metric = (\n",
    "        m_dist_metric.feature_importances_ / m_dist_metric.feature_importances_.max()\n",
    "    )\n",
    "\n",
    "    # dist_metric = np.abs(m_dist_metric.coef_) / np.abs(m_dist_metric.coef_).max()\n",
    "\n",
    "    MG, D = helper.caliper_match(\n",
    "        X=X_normalized.loc[est_index].to_numpy(), metric=dist_metric, caliper=0.012\n",
    "    )  # create the matched groups\n",
    "\n",
    "    opt_mean_policy_ = pd.concat(\n",
    "        [\n",
    "            T.loc[est_index][\n",
    "                MG[i] > 0\n",
    "            ]  # get treatment assignment for all units in the matched group of unit i\n",
    "            .join(\n",
    "                Y.loc[est_index][MG[i] > 0]\n",
    "            )  # join outcomes for all units in the MG of i with treatments\n",
    "            .groupby(\"Y\")  # group by outcomes, here the outcome is binary\n",
    "            .mean()  # get the average treatment for each outcome\n",
    "            .iloc[[0]]  # choose the treatment with the minimum outcome\n",
    "            for i in range(MG.shape[0])\n",
    "        ],\n",
    "        axis=0,\n",
    "    )\n",
    "\n",
    "    opt_mean_policy_ = opt_mean_policy_.reset_index()\n",
    "    opt_mean_policy_.index = X.loc[est_index].index\n",
    "\n",
    "    MGs_T_Y = [\n",
    "        T.loc[est_index][\n",
    "            MG[i] > 0\n",
    "        ].join(  # get treatment assignment for all units in the matched group of unit i\n",
    "            Y.loc[est_index][MG[i] > 0]\n",
    "        )\n",
    "        for i in range(MG.shape[0])\n",
    "    ]\n",
    "\n",
    "    log_regs = {\n",
    "        i: lm.LogisticRegression().fit(MGs_T_Y[i].drop(columns=[\"Y\"]), MGs_T_Y[i][\"Y\"])\n",
    "        for i in range(MG.shape[0])\n",
    "        if len(np.unique(MGs_T_Y[i][\"Y\"])) > 1\n",
    "    }\n",
    "\n",
    "    y_opt = [\n",
    "        log_regs[i].predict_proba(\n",
    "            opt_mean_policy_.drop(columns=[\"Y\"]).iloc[i].values.reshape(1, -1)\n",
    "        )[0, 1]\n",
    "        for i in range(MG.shape[0])\n",
    "        if len(np.unique(MGs_T_Y[i][\"Y\"])) > 1\n",
    "    ]\n",
    "\n",
    "    y_obs_proba = [\n",
    "        log_regs[i].predict_proba(T.loc[est_index].iloc[i].values.reshape(1, -1))[0, 1]\n",
    "        for i in range(MG.shape[0])\n",
    "        if len(np.unique(MGs_T_Y[i][\"Y\"])) > 1\n",
    "    ]\n",
    "\n",
    "    df_ = pd.DataFrame()\n",
    "    df_[\"y_opt\"] = y_opt\n",
    "    df_[\"y_adm\"] = y_obs_proba\n",
    "    df_.index = [\n",
    "        est_index[i] for i in range(MG.shape[0]) if len(np.unique(MGs_T_Y[i][\"Y\"])) > 1\n",
    "    ]\n",
    "\n",
    "    df_y_array.append(df_)\n",
    "    opt_mean_policy_array.append(opt_mean_policy_)"
   ]
  },
  {
   "cell_type": "code",
   "execution_count": null,
   "id": "57968855-0b7a-4892-b949-5acffe2a2925",
   "metadata": {
    "tags": []
   },
   "outputs": [],
   "source": [
    "opt_mean_policy_ = pd.concat(opt_mean_policy_array).groupby(by=\"SID\").mean()\n",
    "df_y_diff = pd.concat(df_y_array)\n",
    "df_y_diff[\"SID\"] = df_y_diff.index\n",
    "df_y_diff = df_y_diff.set_index(\"SID\")\n",
    "df_y_diff = df_y_diff.groupby(by=\"SID\").mean()"
   ]
  },
  {
   "cell_type": "code",
   "execution_count": null,
   "id": "aa0df451-4acb-4256-8885-cf2f773f7c0e",
   "metadata": {
    "tags": []
   },
   "outputs": [],
   "source": [
    "print((df_y_diff[\"y_opt\"] - df_y_diff[\"y_adm\"]).mean())\n",
    "print(1.96 * ((df_y_diff[\"y_opt\"]).sem() + df_y_diff[\"y_adm\"].sem()))"
   ]
  },
  {
   "cell_type": "code",
   "execution_count": null,
   "id": "3490dfec-451f-47b3-8bad-ea1ba24d4f52",
   "metadata": {
    "tags": []
   },
   "outputs": [],
   "source": [
    "sns.histplot(\n",
    "    D.reshape(\n",
    "        -1,\n",
    "    )\n",
    ")\n",
    "plt.xlim(-0.0001, 0.05)"
   ]
  },
  {
   "cell_type": "code",
   "execution_count": null,
   "id": "69842c1d-eeb4-42c8-be26-46de07da67d5",
   "metadata": {
    "tags": []
   },
   "outputs": [],
   "source": [
    "# pd.DataFrame(T.mean())\n",
    "import scipy\n",
    "\n",
    "res_summary = pd.DataFrame(opt_mean_policy_.mean()).join(\n",
    "    pd.DataFrame(Y.join(T).mean()), rsuffix=\"_obs\"\n",
    ")\n",
    "\n",
    "pd.DataFrame(res_summary[\"0\"] - res_summary[\"0_obs\"]).join(\n",
    "    pd.DataFrame(\n",
    "        (\n",
    "            scipy.stats.norm.sf(\n",
    "                abs(\n",
    "                    (\n",
    "                        (res_summary[\"0\"] - res_summary[\"0_obs\"])\n",
    "                        / np.sqrt(opt_mean_policy_.sem() ** 2 + Y.join(T).sem() ** 2)\n",
    "                    ).sort_values()\n",
    "                )\n",
    "            )\n",
    "            * 2\n",
    "        ).round(4),\n",
    "        index=res_summary.index,\n",
    "        columns=[\"p_val\"],\n",
    "    )\n",
    ").sort_values(by=\"p_val\", ascending=True).round(2).drop(index=[\"Y\"])"
   ]
  },
  {
   "cell_type": "markdown",
   "id": "ce7246d5-323e-4912-8b21-67799b267ea5",
   "metadata": {
    "tags": []
   },
   "source": [
    "### Some Summary Statistics About the Matching"
   ]
  },
  {
   "cell_type": "markdown",
   "id": "21e4c6f5-18ba-47f2-9be6-e05334485fda",
   "metadata": {},
   "source": [
    "How many units are there in each Matched Group?"
   ]
  },
  {
   "cell_type": "code",
   "execution_count": null,
   "id": "be02ffb3-d88b-4838-98b4-4bd3aff2bb0c",
   "metadata": {
    "tags": []
   },
   "outputs": [],
   "source": [
    "import seaborn as sns\n",
    "\n",
    "sns.histplot(\n",
    "    MG.sum(axis=1).reshape(\n",
    "        -1,\n",
    "    )\n",
    ")\n",
    "# plt.xlim(0, 2000)\n",
    "\n",
    "# sns.histplot(D.reshape(-1,))\n",
    "# plt.xlim(0, 5)"
   ]
  },
  {
   "cell_type": "code",
   "execution_count": null,
   "id": "de1a7214-60fe-4601-a18b-c99e91146c6c",
   "metadata": {
    "tags": []
   },
   "outputs": [],
   "source": [
    "res = pd.DataFrame(opt_mean_policy_).join(pd.DataFrame(Y.join(T)), rsuffix=\"_obs\")"
   ]
  },
  {
   "cell_type": "markdown",
   "id": "7fc6bc4b-7e72-4b4c-b112-144f2d35b520",
   "metadata": {},
   "source": [
    "### More Analysis About the Heterogeneity"
   ]
  },
  {
   "cell_type": "code",
   "execution_count": null,
   "id": "7ddec0cc-a6b2-4c22-94f0-d9f8c8514a4b",
   "metadata": {
    "tags": []
   },
   "outputs": [],
   "source": [
    "fig, ax = plt.subplots(figsize=(10, 6), dpi=800)\n",
    "inclusion = (X[\"propofol_50\"] > 0.1) * (X[\"propofol_50\"] < 5)\n",
    "sns.regplot(\n",
    "    x=X[\"propofol_50\"].loc[inclusion].round(0),\n",
    "    y=(res[\"E in last 1h (>25%) [prop]\"] - res[\"E in last 1h (>25%) [prop]_obs\"]).loc[\n",
    "        inclusion\n",
    "    ],\n",
    "    order=3,\n",
    "    # scatter_kws={\"alpha\": 0.15},\n",
    "    ax=ax,\n",
    "    scatter=False,\n",
    "    # x_bins=14,\n",
    "    ci=95,\n",
    "    line_kws={\"linewidth\": 4},\n",
    ")\n",
    "plt.axhline(0, c=\"black\")\n",
    "\n",
    "\n",
    "sns.regplot(\n",
    "    x=X[\"propofol_50\"].loc[inclusion].round(0),\n",
    "    y=(\n",
    "        res[\"E in last 1h (>50%) [prop]\"]\n",
    "        + res[\"E in last 1h (>75%) [prop]\"]\n",
    "        - (\n",
    "            res[\"E in last 1h (>50%) [prop]_obs\"]\n",
    "            + res[\"E in last 1h (>75%) [prop]_obs\"]\n",
    "        )\n",
    "    ).loc[inclusion],\n",
    "    order=3,\n",
    "    # scatter_kws={\"alpha\": 0.15},\n",
    "    ax=ax,\n",
    "    scatter=False,\n",
    "    x_bins=14,\n",
    "    line_kws={\"linewidth\": 4, \"linestyle\": \"--\"},\n",
    "    ci=95,\n",
    ")\n",
    "\n",
    "plt.title(\n",
    "    \"Difference in the Propofol Dose between\\n the optimal and administered regimes\"\n",
    ")\n",
    "plt.ylabel(\"Difference in the \\nDoses [in mg/kg/hr]\")\n",
    "plt.xlabel(\"ED50 (Propofol)\")\n",
    "g_legend = ax.legend([\"A\", None, None, \"B\"])\n",
    "\n",
    "plt.axhline(0, c=\"black\")\n",
    "g_legend.legendHandles.pop(1)\n",
    "g_legend.legendHandles.pop(1)\n",
    "ax.legend(\n",
    "    g_legend.legendHandles,\n",
    "    [\" 25% < E < 50%\", \"E > 75%\"],\n",
    "    title=r\"EA burden in last 1h\",\n",
    ")\n",
    "plt.tight_layout()\n",
    "# plt.xlim(0, 5)\n",
    "plt.ylim(-2, 1.5)\n",
    "fig.savefig(\"../Figures/policy_diff_optimal_administered_propofol_ed50.pdf\", dpi=800)"
   ]
  },
  {
   "cell_type": "code",
   "execution_count": null,
   "id": "734a47d7-eeb4-4320-9392-ab0bf7f217fd",
   "metadata": {
    "tags": []
   },
   "outputs": [],
   "source": [
    "fig, ax = plt.subplots(figsize=(10, 6), dpi=800)\n",
    "# inclusion = (X[\"propofol_50\"] > 0.1) * (X[\"propofol_50\"] < 5)\n",
    "sns.regplot(\n",
    "    x=X[\"baseline_avg\"].loc[inclusion].round(0),\n",
    "    y=(res[\"E in last 1h (>25%) [prop]\"] - res[\"E in last 1h (>25%) [prop]_obs\"]).loc[\n",
    "        inclusion\n",
    "    ],\n",
    "    order=3,\n",
    "    # scatter_kws={\"alpha\": 0.15},\n",
    "    ax=ax,\n",
    "    scatter=False,\n",
    "    # x_bins=14,\n",
    "    ci=95,\n",
    ")\n",
    "plt.axhline(0, c=\"black\")\n",
    "\n",
    "\n",
    "sns.regplot(\n",
    "    x=X[\"baseline_avg\"].loc[inclusion].round(0),\n",
    "    y=(\n",
    "        res[\"E in last 1h (>50%) [prop]\"]\n",
    "        + res[\"E in last 1h (>75%) [prop]\"]\n",
    "        - (\n",
    "            res[\"E in last 1h (>50%) [prop]_obs\"]\n",
    "            + res[\"E in last 1h (>75%) [prop]_obs\"]\n",
    "        )\n",
    "    ).loc[inclusion],\n",
    "    order=3,\n",
    "    # scatter_kws={\"alpha\": 0.15},\n",
    "    ax=ax,\n",
    "    scatter=False,\n",
    "    x_bins=14,\n",
    "    ci=95,\n",
    ")\n",
    "\n",
    "plt.title(\n",
    "    \"Difference in the Propofol Dose between\\n the optimal and administered regimes\"\n",
    ")\n",
    "plt.ylabel(\"Difference in the \\nDoses [in mg/kg/hr]\")\n",
    "plt.xlabel(\"ED50 (Propofol)\")\n",
    "g_legend = ax.legend([\"A\", None, None, \"B\"])\n",
    "\n",
    "plt.axhline(0, c=\"black\")\n",
    "g_legend.legendHandles.pop(1)\n",
    "g_legend.legendHandles.pop(1)\n",
    "ax.legend(\n",
    "    g_legend.legendHandles,\n",
    "    [\" 25% < E < 50%\", \"E > 75%\"],\n",
    "    title=r\"EA burden in last 1h\",\n",
    ")\n",
    "plt.tight_layout()\n",
    "# plt.xlim(0, 5)\n",
    "plt.ylim(-2, 1.5)\n",
    "fig.savefig(\n",
    "    \"../Figures/policy_diff_optimal_administered_propofol_baseline.pdf\", dpi=800\n",
    ")"
   ]
  },
  {
   "cell_type": "code",
   "execution_count": null,
   "id": "a618c831-83fc-4303-80a2-e6904d48e17a",
   "metadata": {
    "tags": []
   },
   "outputs": [],
   "source": [
    "fig, ax = plt.subplots(figsize=(10, 6), dpi=800)\n",
    "\n",
    "sns.regplot(\n",
    "    x=X[\"C_imputed_APACHE II 1st 24h\"].round(0),\n",
    "    y=res[\"E in last 1h (>25%) [prop]\"] - res[\"E in last 1h (>25%) [prop]_obs\"],\n",
    "    order=4,\n",
    "    # scatter_kws={\"alpha\": 0.15},\n",
    "    ax=ax,\n",
    "    scatter=False,\n",
    "    x_bins=14,\n",
    "    ci=95,\n",
    "    line_kws={\"linewidth\": 4},\n",
    ")\n",
    "plt.axhline(0, c=\"black\")\n",
    "\n",
    "\n",
    "sns.regplot(\n",
    "    x=X[\"C_imputed_APACHE II 1st 24h\"].round(0),\n",
    "    y=res[\"E in last 1h (>50%) [prop]\"]\n",
    "    + res[\"E in last 1h (>75%) [prop]\"]\n",
    "    - (res[\"E in last 1h (>50%) [prop]_obs\"] + res[\"E in last 1h (>75%) [prop]_obs\"]),\n",
    "    order=4,\n",
    "    # scatter_kws={\"alpha\": 0.15},\n",
    "    ax=ax,\n",
    "    scatter=False,\n",
    "    x_bins=14,\n",
    "    ci=95,\n",
    "    line_kws={\"linewidth\": 4, \"linestyle\": \"--\"},\n",
    ")\n",
    "\n",
    "plt.title(\n",
    "    \"Difference in the Propofol Dose between\\n the optimal and administered regimes\"\n",
    ")\n",
    "plt.ylabel(\"Difference in the \\nDoses [in mg/kg/hr]\")\n",
    "plt.xlabel(\"APACHE II Score\")\n",
    "g_legend = ax.legend([\"A\", None, None, \"B\"])\n",
    "\n",
    "plt.axhline(0, c=\"black\")\n",
    "g_legend.legendHandles.pop(1)\n",
    "g_legend.legendHandles.pop(1)\n",
    "ax.legend(\n",
    "    g_legend.legendHandles,\n",
    "    [\" 25% < E < 50%\", \"E > 75%\"],\n",
    "    title=r\"EA burden in last 1h\",\n",
    ")\n",
    "plt.tight_layout()\n",
    "plt.xlim(5, 35)\n",
    "plt.ylim(-1.5, 1)\n",
    "fig.savefig(\"../Figures/policy_diff_optimal_administered_apache.pdf\", dpi=800)"
   ]
  },
  {
   "cell_type": "code",
   "execution_count": null,
   "id": "efc82534-0205-47b9-8b52-8275e2d5e08f",
   "metadata": {
    "tags": []
   },
   "outputs": [],
   "source": [
    "fig, ax = plt.subplots(figsize=(10, 6), dpi=800)\n",
    "\n",
    "sns.regplot(\n",
    "    x=X[\"C_imputed_iGCS-Total\"].round(0),\n",
    "    y=res[\"E in last 1h (>25%) [prop]\"] - res[\"E in last 1h (>25%) [prop]_obs\"],\n",
    "    order=4,\n",
    "    # scatter_kws={\"alpha\": 0.15},\n",
    "    ax=ax,\n",
    "    scatter=False,\n",
    "    x_bins=14,\n",
    "    ci=95,\n",
    "    line_kws={\"linewidth\": 4},\n",
    ")\n",
    "plt.axhline(0, c=\"black\")\n",
    "\n",
    "\n",
    "sns.regplot(\n",
    "    x=X[\"C_imputed_iGCS-Total\"].round(0),\n",
    "    y=res[\"E in last 1h (>50%) [prop]\"]\n",
    "    + res[\"E in last 1h (>75%) [prop]\"]\n",
    "    - (res[\"E in last 1h (>50%) [prop]_obs\"] + res[\"E in last 1h (>75%) [prop]_obs\"]),\n",
    "    order=3,\n",
    "    # scatter_kws={\"alpha\": 0.15},\n",
    "    ax=ax,\n",
    "    scatter=False,\n",
    "    x_bins=14,\n",
    "    ci=95,\n",
    "    line_kws={\"linewidth\": 4, \"linestyle\": \"--\"},\n",
    ")\n",
    "\n",
    "plt.title(\n",
    "    \"Difference in the Propofol Dose between\\n the optimal and administered regimes\"\n",
    ")\n",
    "plt.ylabel(\"Difference in the \\nDoses [in mg/kg/hr]\")\n",
    "\n",
    "plt.xlabel(\"Glasgow Coma Scale (GCS)\")\n",
    "g_legend = ax.legend([\"A\", None, None, \"B\"])\n",
    "\n",
    "plt.axhline(0, c=\"black\")\n",
    "g_legend.legendHandles.pop(1)\n",
    "g_legend.legendHandles.pop(1)\n",
    "ax.legend(\n",
    "    g_legend.legendHandles,\n",
    "    [\" 25% < E < 50%\", \"E > 75%\"],\n",
    "    title=r\"EA burden in last 1h\",\n",
    ")\n",
    "plt.tight_layout()\n",
    "fig.savefig(\"../Figures/policy_diff_optimal_administered_gcs.pdf\", dpi=800)"
   ]
  },
  {
   "cell_type": "code",
   "execution_count": null,
   "id": "cadd3c86-6808-4406-a155-214cf3f9d147",
   "metadata": {
    "tags": []
   },
   "outputs": [],
   "source": [
    "res2 = opt_mean_policy_.drop(columns=[\"Y\"]).copy(deep=True)\n",
    "res2[\"Regime\"] = \"Optimal\"\n",
    "res3 = T.copy()\n",
    "res3[\"Regime\"] = \"Administered\"\n",
    "res2 = pd.concat([res2, res3])"
   ]
  },
  {
   "cell_type": "code",
   "execution_count": null,
   "id": "0f6deede-757e-45a3-ba92-a7877896fd9e",
   "metadata": {
    "tags": []
   },
   "outputs": [],
   "source": [
    "fig, ax = plt.subplots(figsize=(10, 4.5), dpi=800)\n",
    "sns.kdeplot(np.array(df_y_diff[\"y_opt\"]), fill=True, lw=3)\n",
    "sns.kdeplot(np.array(df_y_diff[\"y_adm\"]), color=\"C3\", fill=True, lw=3, ls=\"--\")\n",
    "plt.xlim(0, 1)\n",
    "plt.xticks([0, 0.25, 0.5, 0.75, 1])\n",
    "plt.yticks([0, 1, 2])\n",
    "plt.xlabel(r\"Estimated Outcome ($\\mathbf{P}[Y_i(\\pi)=1 \\mid \\mathbf{V}_i]$)\")\n",
    "plt.legend([\"Optimal\", \"Administered\"], title=r\"Regime ($\\pi$)\")\n",
    "plt.tight_layout()\n",
    "fig.savefig(\"../Figures/outcome_optimal_administered.pdf\", dpi=800)"
   ]
  },
  {
   "cell_type": "code",
   "execution_count": null,
   "id": "254416b7-22e5-4781-b6bf-fbebd1de3c8f",
   "metadata": {
    "tags": []
   },
   "outputs": [],
   "source": [
    "df_y_diff[\"diff\"] = df_y_diff[\"y_opt\"] - df_y_diff[\"y_adm\"]"
   ]
  },
  {
   "cell_type": "code",
   "execution_count": null,
   "id": "acb2719a-367f-45d7-bbca-91ea2df4efe0",
   "metadata": {
    "tags": []
   },
   "outputs": [],
   "source": [
    "df_y_diff.mean()"
   ]
  },
  {
   "cell_type": "code",
   "execution_count": null,
   "id": "8c7c110a-b68c-46b0-b840-2a3c7ffa48cb",
   "metadata": {
    "tags": []
   },
   "outputs": [],
   "source": [
    "X_interest_col = [\n",
    "    \"C_imputed_Hx CVA\",\n",
    "    \"C_imputed_Hx HTN\",\n",
    "    \"C_imputed_Hx brain surgery\",\n",
    "    \"C_imputed_Hx CKD\",\n",
    "    \"C_imputed_Hx CAD/MI\",\n",
    "    \"C_imputed_Hx CHF\",\n",
    "    \"C_imputed_Hx DM\",\n",
    "    \"C_imputed_Hx liver failure\",\n",
    "    \"C_imputed_Hx smoking\",\n",
    "    \"C_imputed_Hx alcohol\",\n",
    "    \"C_imputed_Hx substance abuse\",\n",
    "    \"C_imputed_Hx cancer\",\n",
    "    \"C_imputed_Hx PVD\",\n",
    "    \"C_imputed_Hx dementia\",\n",
    "    \"C_imputed_Hx COPD/Asthma\",\n",
    "    \"C_imputed_Hx leukemia/lymphoma\",\n",
    "    \"C_imputed_Hx AIDs\",\n",
    "    \"C_imputed_acute SDH\",\n",
    "    \"C_imputed_Sepsis/Shock\",\n",
    "    \"C_imputed_NeuroDx:IschStroke\",\n",
    "    \"C_imputed_NeuroDx:HemStroke\",\n",
    "    \"C_imputed_NeuroDx:SAH\",\n",
    "    \"C_imputed_NeuroDx:Brain tumor\",\n",
    "    \"C_imputed_NeuroDx:CNS infection\",\n",
    "    \"C_imputed_NeuroDx:HIE/ABI\",\n",
    "]\n",
    "X_features = [\n",
    "    \"Cerebrovascular Accident\",\n",
    "    \"Hypertension\",\n",
    "    \"Brain Surgery\",\n",
    "    \"Kidney Disease\",\n",
    "    \"Coronary Artery Disease\",\n",
    "    \"Congestive Heart Failure\",\n",
    "    \"Diabetes Mellitus\",\n",
    "    \"Liver Failure\",\n",
    "    \"Smoking\",\n",
    "    \"Alcohol\",\n",
    "    \"Substance Abuse\",\n",
    "    \"Cancer\",\n",
    "    \"Peripheral Vascular Disease\",\n",
    "    \"Dementia\",\n",
    "    \"Asthma\",\n",
    "    \"Leukemia\",\n",
    "    \"AIDs\",\n",
    "    \"Subdural Hematoma\",\n",
    "    \"Sepsis/Shock\",\n",
    "    \"Ischemic Stroke\",\n",
    "    \"Hemorrhagic Stroke\",\n",
    "    \"Subarachnoid Hemorrhage\",\n",
    "    \"Brain Tumor\",\n",
    "    \"CNS Infection\",\n",
    "    \"HIE/ABI\",\n",
    "]"
   ]
  },
  {
   "cell_type": "code",
   "execution_count": null,
   "id": "f271a752-4566-4c27-80f8-b0fe3cddc3dd",
   "metadata": {
    "tags": []
   },
   "outputs": [],
   "source": [
    "explain_y_diff = tree.DecisionTreeRegressor(max_depth=2, min_samples_leaf=15).fit(\n",
    "    X=X[X_interest_col].loc[df_y_diff.index].astype(bool),\n",
    "    y=(-100 * df_y_diff[\"diff\"]).round(2),\n",
    ")\n",
    "sns.set(style=\"whitegrid\", font_scale=2)\n",
    "fig, ax = plt.subplots(figsize=(10, 5), dpi=800)\n",
    "tree.plot_tree(\n",
    "    explain_y_diff,\n",
    "    feature_names=X_features,\n",
    "    ax=ax,\n",
    "    filled=True,\n",
    "    fontsize=19,\n",
    "    impurity=False,\n",
    "    precision=1,\n",
    "    proportion=True,\n",
    "    rounded=True,\n",
    "    max_depth=2,\n",
    ")\n",
    "plt.tight_layout()\n",
    "fig.savefig(\"../Figures/outcome_dtree.pdf\", dpi=800)"
   ]
  },
  {
   "cell_type": "code",
   "execution_count": null,
   "id": "61413583-5812-4634-b28f-a6a51e648c47",
   "metadata": {
    "tags": []
   },
   "outputs": [],
   "source": [
    "E75lev_diff = (\n",
    "    res[\"E in last 6h (>25%) AND E in last 12h (>25%) [lev]\"]\n",
    "    - res[\"E in last 6h (>25%) AND E in last 12h (>25%) [lev]_obs\"]\n",
    ")"
   ]
  },
  {
   "cell_type": "code",
   "execution_count": null,
   "id": "4ef78114-fe9b-4f70-adce-146bceb23ac7",
   "metadata": {
    "tags": []
   },
   "outputs": [],
   "source": [
    "# E75lev_diff = res[\"E in last 1h (>75%) [lev]\"] - res[\"E in last 1h (>75%) [lev]_obs\"]\n",
    "explain_E75lev_diff = tree.DecisionTreeRegressor(max_depth=2, min_samples_leaf=15).fit(\n",
    "    X=X[X_interest_col],\n",
    "    y=E75lev_diff,\n",
    ")\n",
    "\n",
    "sns.set(style=\"whitegrid\", font_scale=2)\n",
    "fig, ax = plt.subplots(figsize=(10, 5), dpi=800)\n",
    "tree.plot_tree(\n",
    "    explain_E75lev_diff,\n",
    "    feature_names=X_features,\n",
    "    ax=ax,\n",
    "    filled=True,\n",
    "    fontsize=19,\n",
    "    impurity=False,\n",
    "    precision=1,\n",
    "    proportion=True,\n",
    "    rounded=True,\n",
    ")\n",
    "plt.tight_layout()\n",
    "fig.savefig(\"../Figures/e6h_12h_lev_diff_explain.pdf\", dpi=800)"
   ]
  },
  {
   "cell_type": "code",
   "execution_count": null,
   "id": "5d461a22-085a-4bbb-b9b9-53e64860c19f",
   "metadata": {
    "tags": []
   },
   "outputs": [],
   "source": [
    "E75lev_diff = (\n",
    "    res[\"E in last 1h (>25% ) AND E in last 6h (>25%) [lev]\"]\n",
    "    + res[\"Baseline Dose\"]\n",
    "    + res[\"E in last 1h (>25%) [lev]\"]\n",
    "    + res[\"E in last 6h (>25%) [lev]\"]\n",
    "    - (\n",
    "        res[\"E in last 1h (>25% ) AND E in last 6h (>25%) [lev]_obs\"]\n",
    "        + res[\"Baseline Dose_obs\"]\n",
    "        + res[\"E in last 1h (>25%) [lev]_obs\"]\n",
    "        + res[\"E in last 6h (>25%) [lev]_obs\"]\n",
    "    )\n",
    ")\n",
    "explain_E75lev_diff = tree.DecisionTreeRegressor(max_depth=2, min_samples_leaf=15).fit(\n",
    "    X=X[X_interest_col],\n",
    "    y=E75lev_diff,\n",
    ")\n",
    "\n",
    "sns.set(style=\"whitegrid\", font_scale=2)\n",
    "fig, ax = plt.subplots(figsize=(10, 5), dpi=800)\n",
    "tree.plot_tree(\n",
    "    explain_E75lev_diff,\n",
    "    feature_names=X_features,\n",
    "    ax=ax,\n",
    "    filled=True,\n",
    "    fontsize=19,\n",
    "    impurity=False,\n",
    "    precision=1,\n",
    "    proportion=True,\n",
    "    rounded=True,\n",
    ")\n",
    "plt.tight_layout()\n",
    "fig.savefig(\"../Figures/e75_lev_diff_explain.pdf\", dpi=800)"
   ]
  },
  {
   "cell_type": "code",
   "execution_count": null,
   "id": "451f8b69-350e-4fae-9939-4be742da570f",
   "metadata": {
    "tags": []
   },
   "outputs": [],
   "source": [
    "res_X = res2.join(\n",
    "    X[X_interest_col].rename(\n",
    "        columns={X_interest_col[i]: X_features[i] for i in range(len(X_interest_col))}\n",
    "    )\n",
    ")\n",
    "res_X"
   ]
  },
  {
   "cell_type": "code",
   "execution_count": null,
   "id": "45789637-d86b-4f91-811c-e6596d1e69b1",
   "metadata": {
    "tags": []
   },
   "outputs": [],
   "source": [
    "fig, ax = plt.subplots(figsize=(6, 6), dpi=800)\n",
    "sns.pointplot(\n",
    "    y=res_X[\"E in last 6h (>25%) AND E in last 12h (>25%) [lev]\"]\n",
    "    + res_X[\"Baseline Dose\"]\n",
    "    + res_X[\"E in last 6h (>25%) [lev]\"],\n",
    "    hue=\"Regime\",\n",
    "    x=\"Dementia\",\n",
    "    data=res_X,\n",
    "    dodge=0.05,\n",
    "    ci=95,\n",
    "    capsize=0.05,\n",
    "    join=True,\n",
    "    palette=\"Set1\",\n",
    "    markers=\"s\",\n",
    "    scale=2,\n",
    ")\n",
    "ax.legend_ = None\n",
    "plt.ylabel(\"Levetiracetam \\n Drug Dose\\n [in mg/kg]\")\n",
    "# plt.ylim(3.65, 17)\n",
    "# plt.title(\"Patients with E > 25% in last 6h and 12h\")\n",
    "plt.legend(bbox_to_anchor=(1, -0.25), borderaxespad=0)\n",
    "plt.tight_layout()\n",
    "fig.savefig(\"../Figures/lev_dementia.pdf\", dpi=800)"
   ]
  },
  {
   "cell_type": "code",
   "execution_count": null,
   "id": "2b2db549-25b7-43e0-a4c2-1b4a3f3ca217",
   "metadata": {
    "tags": []
   },
   "outputs": [],
   "source": [
    "fig, ax = plt.subplots(figsize=(6, 6), dpi=800)\n",
    "sns.pointplot(\n",
    "    y=res_X[\"E in last 1h (>25% ) AND E in last 6h (>25%) [lev]\"]\n",
    "    + res_X[\"Baseline Dose\"]\n",
    "    + res_X[\"E in last 1h (>25%) [lev]\"]\n",
    "    + res_X[\"E in last 6h (>25%) [lev]\"],\n",
    "    hue=\"Regime\",\n",
    "    x=\"Subarachnoid Hemorrhage\",\n",
    "    data=res_X,\n",
    "    dodge=0.05,\n",
    "    ci=95,\n",
    "    capsize=0.05,\n",
    "    palette=\"Set1\",\n",
    "    markers=\"s\",\n",
    "    scale=2,\n",
    ")\n",
    "plt.ylabel(\"Levetiracetam \\n Drug Dose\\n [in mg/kg]\")\n",
    "# plt.title(\"Patients with E > 25% in last 1h and 6h\")\n",
    "# plt.ylim(3.65, 17)\n",
    "plt.legend(bbox_to_anchor=(1, -0.25), borderaxespad=0)\n",
    "plt.tight_layout()\n",
    "fig.savefig(\"../Figures/lev_1h_6h.pdf\", dpi=800)"
   ]
  },
  {
   "cell_type": "code",
   "execution_count": null,
   "id": "7ce08637-c6d8-4d34-9dba-a7a995640ac3",
   "metadata": {},
   "outputs": [],
   "source": [
    "y_apache = df_y_diff.join(X[[\"C_imputed_APACHE II 1st 24h\"]]).join(\n",
    "    df[[\"Y\"]].groupby(by=\"SID\").mean() == 6\n",
    ")"
   ]
  },
  {
   "cell_type": "code",
   "execution_count": null,
   "id": "f07dd91e-6f0f-429b-83a0-263f128581c4",
   "metadata": {
    "tags": []
   },
   "outputs": [],
   "source": [
    "y_apache[\"APACHE_ord\"] = (\n",
    "    (y_apache[\"C_imputed_APACHE II 1st 24h\"] > 4).astype(int)\n",
    "    + (y_apache[\"C_imputed_APACHE II 1st 24h\"] > 9).astype(int)\n",
    "    + (y_apache[\"C_imputed_APACHE II 1st 24h\"] > 14).astype(int)\n",
    "    + (y_apache[\"C_imputed_APACHE II 1st 24h\"] > 19).astype(int)\n",
    "    + (y_apache[\"C_imputed_APACHE II 1st 24h\"] > 24).astype(int)\n",
    "    + (y_apache[\"C_imputed_APACHE II 1st 24h\"] > 29).astype(int)\n",
    "    + (y_apache[\"C_imputed_APACHE II 1st 24h\"] > 34).astype(int)\n",
    ")"
   ]
  },
  {
   "cell_type": "code",
   "execution_count": null,
   "id": "2031e589-a61c-4cdc-b029-fa256c988852",
   "metadata": {
    "tags": []
   },
   "outputs": [],
   "source": [
    "y_apache.groupby(by=\"APACHE_ord\").mean()[[\"y_adm\"]]"
   ]
  },
  {
   "cell_type": "code",
   "execution_count": null,
   "id": "10a8cbc3-7040-4052-bebd-d15d42442bfd",
   "metadata": {},
   "outputs": [],
   "source": []
  },
  {
   "cell_type": "code",
   "execution_count": null,
   "id": "575bf2af-5a6a-47f6-b8f2-381d1b27bd26",
   "metadata": {},
   "outputs": [],
   "source": []
  }
 ],
 "metadata": {
  "kernelspec": {
   "display_name": "Python 3 (ipykernel)",
   "language": "python",
   "name": "python3"
  },
  "language_info": {
   "codemirror_mode": {
    "name": "ipython",
    "version": 3
   },
   "file_extension": ".py",
   "mimetype": "text/x-python",
   "name": "python",
   "nbconvert_exporter": "python",
   "pygments_lexer": "ipython3",
   "version": "3.10.9"
  }
 },
 "nbformat": 4,
 "nbformat_minor": 5
}
