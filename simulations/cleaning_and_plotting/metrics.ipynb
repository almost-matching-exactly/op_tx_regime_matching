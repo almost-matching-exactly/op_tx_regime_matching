{
 "cells": [
  {
   "cell_type": "code",
   "execution_count": 1,
   "id": "56eeb1b4-61c3-494e-8ea0-b81286473900",
   "metadata": {},
   "outputs": [],
   "source": [
    "import numpy as np\n",
    "import pandas as pd\n",
    "import os"
   ]
  },
  {
   "cell_type": "code",
   "execution_count": 2,
   "id": "57c8bf5f-72d5-4395-a399-3832e6df3a2e",
   "metadata": {},
   "outputs": [],
   "source": [
    "filepath = '../../simulations_data'"
   ]
  },
  {
   "cell_type": "code",
   "execution_count": 3,
   "id": "67f6a988-524c-4fc7-ac8c-a6f65b3727fc",
   "metadata": {},
   "outputs": [],
   "source": [
    "full_df_bin = pd.read_csv(f'{filepath}/all_sims_binary_outcomes.csv')\n",
    "full_df_nan = pd.read_csv(f'{filepath}/all_sims_nan.csv')"
   ]
  },
  {
   "cell_type": "code",
   "execution_count": 4,
   "id": "d1f798d9-c662-4dd9-a8fa-b1cf1341d676",
   "metadata": {},
   "outputs": [],
   "source": [
    "drop_cols = ['Iter', 'Covs', 'T Setting', 'T Drop Setting', 'DGP', 'Binary Dose', \n",
    "             'Observed', 'Expert', 'Inaction', 'Random', 'Full Dosing']"
   ]
  },
  {
   "cell_type": "markdown",
   "id": "ffa8bedb-6c43-444c-9cdf-31cf586b02fd",
   "metadata": {},
   "source": [
    "## Section 6 Results"
   ]
  },
  {
   "cell_type": "code",
   "execution_count": 5,
   "id": "94ed3a7e-e6a6-473e-9bfb-55ba9e3cbd93",
   "metadata": {},
   "outputs": [],
   "source": [
    "t_setting = 'b'\n",
    "dgp = 'informed'\n",
    "\n",
    "keep_rows = (full_df_bin['T Setting'] == t_setting) & (full_df_bin['DGP'] == dgp)\n",
    "this_df = full_df_bin[keep_rows]\n",
    "\n",
    "this_df = this_df.drop(columns=drop_cols).astype('float').groupby('Sim').mean()\n",
    "this_df = this_df[[c for c in this_df.columns if c not in drop_cols]]\n",
    "this_df = this_df[[c for c in this_df.columns if 'R3' not in c]]  # drop oracle reward methods\n",
    "\n",
    "rankings = {m:[] for m in this_df.columns}\n",
    "for i, row in this_df.iterrows():\n",
    "    this_row = row.sort_values()\n",
    "    these_nan = list(this_row[this_row.isna()].index)\n",
    "    this_order = list(this_row.dropna().index)\n",
    "    for r,v in rankings.items():\n",
    "        v.append(this_order.index(r) if r in this_order else np.nan)\n",
    "        \n",
    "rankings = pd.DataFrame(rankings)\n",
    "for m in rankings.columns:  # replace all multi methods with the binary version when the dose is binary\n",
    "    if 'Multi' in m:\n",
    "        try:\n",
    "            rankings[m] = rankings[m].fillna(rankings[m.replace(' Multi', '')])\n",
    "        except:\n",
    "            rankings[m] = rankings[m].fillna(rankings[m.replace(' Multi', ' (Python)')])"
   ]
  },
  {
   "cell_type": "code",
   "execution_count": 7,
   "id": "a689488d-8fa7-4f71-a542-fb1d140b606b",
   "metadata": {},
   "outputs": [
    {
     "name": "stdout",
     "output_type": "stream",
     "text": [
      "Total number of simulation setups:\n",
      "8\n",
      "\n",
      "Top performing method counts\n",
      "Our Method             8\n",
      "CQL R1                 0\n",
      "Linear Inf Multi R2    0\n",
      "RF Inf Multi R1        0\n",
      "RF Inf Multi R2        0\n",
      "dtype: int64\n",
      "\n",
      "\n",
      "Max percentage points from top performing method across simulation setups WITHOUT ORACLE METHODS:\n",
      "Our Method    0.00000\n",
      "CQL R1        0.03600\n",
      "CQL R2        0.04015\n",
      "CRR R2        0.06540\n",
      "BCQ R1        0.07170\n",
      "dtype: float64\n",
      "\n"
     ]
    }
   ],
   "source": [
    "print('Total number of simulation setups:')\n",
    "print(rankings.shape[0])\n",
    "print()\n",
    "print('Top performing method counts')\n",
    "print((rankings <= 0).sum().sort_values(ascending=False).iloc[:5])\n",
    "print()\n",
    "print()\n",
    "print('Max percentage points from top performing method across simulation setups WITHOUT ORACLE METHODS:')\n",
    "print(this_df.subtract(this_df.min(axis=1), axis=0).max(axis=0).sort_values().iloc[:5])\n",
    "print()"
   ]
  },
  {
   "cell_type": "markdown",
   "id": "48ab2e1e-b0a2-42b0-b78b-f97524c6d09f",
   "metadata": {},
   "source": [
    "## Appendix Results"
   ]
  },
  {
   "cell_type": "code",
   "execution_count": 8,
   "id": "ceaec30c-d5d5-4446-8e26-63fb5528ddf6",
   "metadata": {},
   "outputs": [],
   "source": [
    "t_setting = 'b'\n",
    "t_drop_setting = 'b'\n",
    "\n",
    "keep_rows = (full_df_bin['T Setting'] == t_setting) & (full_df_bin['T Drop Setting'] == t_drop_setting)\n",
    "this_df = full_df_bin[keep_rows]\n",
    "\n",
    "this_df = this_df.drop(columns=drop_cols).astype('float').groupby('Sim').mean()\n",
    "this_df = this_df[[c for c in this_df.columns if c not in drop_cols]]\n",
    "this_df = this_df[[c for c in this_df.columns if 'R3' not in c]]  # drop oracle reward methods\n",
    "\n",
    "rankings = {m:[] for m in this_df.columns}\n",
    "for i, row in this_df.iterrows():\n",
    "    this_row = row.sort_values()\n",
    "    these_nan = list(this_row[this_row.isna()].index)\n",
    "    this_order = list(this_row.dropna().index)\n",
    "    for r,v in rankings.items():\n",
    "        v.append(this_order.index(r) if r in this_order else np.nan)\n",
    "        \n",
    "rankings = pd.DataFrame(rankings)\n",
    "for m in rankings.columns:\n",
    "    if 'Multi' in m:\n",
    "        try:\n",
    "            rankings[m] = rankings[m].fillna(rankings[m.replace(' Multi', '')])\n",
    "        except:\n",
    "            rankings[m] = rankings[m].fillna(rankings[m.replace(' Multi', ' (Python)')])"
   ]
  },
  {
   "cell_type": "code",
   "execution_count": 9,
   "id": "35d06ae4-3e60-4453-a967-cdbfa78143da",
   "metadata": {},
   "outputs": [
    {
     "name": "stdout",
     "output_type": "stream",
     "text": [
      "Total number of simulation setups:\n",
      "8\n",
      "\n",
      "Top performing method counts\n",
      "Our Method             5\n",
      "Linear Inf R1          2\n",
      "Linear Inf Multi R1    2\n",
      "SAC R1                 1\n",
      "SAC R2                 0\n",
      "dtype: int64\n",
      "\n",
      "In top 4 performing method counts\n",
      "Our Method                    8\n",
      "Linear Inf R1                 6\n",
      "Linear Inf Multi R1           4\n",
      "Linear Inf Multi R2           3\n",
      "Linear Q-learning (Python)    3\n",
      "dtype: int64\n",
      "\n",
      "Max percentage points from top performing method across simulation setups WITHOUT ORACLE METHODS:\n",
      "Our Method       0.04495\n",
      "SAC R1           0.10650\n",
      "Linear Inf R1    0.20215\n",
      "CQL R1           0.26160\n",
      "BCQ R1           0.27580\n",
      "dtype: float64\n",
      "\n"
     ]
    }
   ],
   "source": [
    "print('Total number of simulation setups:')\n",
    "print(rankings.shape[0])\n",
    "print()\n",
    "print('Top performing method counts')\n",
    "print((rankings <= 0).sum().sort_values(ascending=False).iloc[:5])\n",
    "print()\n",
    "print('In top 4 performing method counts')\n",
    "print((rankings <= 3).sum().sort_values(ascending=False).iloc[:5])\n",
    "print()\n",
    "print('Max percentage points from top performing method across simulation setups WITHOUT ORACLE METHODS:')\n",
    "print(this_df.subtract(this_df.min(axis=1), axis=0).max(axis=0).sort_values().iloc[:5])\n",
    "print()"
   ]
  },
  {
   "cell_type": "code",
   "execution_count": 10,
   "id": "a84348be-86b4-4afd-9a58-46549c1daaf4",
   "metadata": {},
   "outputs": [
    {
     "name": "stdout",
     "output_type": "stream",
     "text": [
      "Max percentage points from top performing method across simulation setups WITH ORACLE METHODS:\n"
     ]
    },
    {
     "data": {
      "text/plain": [
       "Our Method             0.11730\n",
       "SAC R3                 0.15085\n",
       "Linear Inf Multi R3    0.18620\n",
       "Linear Inf R1          0.21685\n",
       "SAC R1                 0.22035\n",
       "dtype: float64"
      ]
     },
     "execution_count": 10,
     "metadata": {},
     "output_type": "execute_result"
    }
   ],
   "source": [
    "t_setting = 'b'\n",
    "t_drop_setting = 'b'\n",
    "\n",
    "keep_rows = (full_df_bin['T Setting'] == t_setting) & (full_df_bin['T Drop Setting'] == t_drop_setting)\n",
    "this_df = full_df_bin[keep_rows]\n",
    "\n",
    "this_df = this_df.drop(columns=drop_cols).astype('float').groupby('Sim').mean()\n",
    "this_df = this_df[[c for c in this_df.columns if c not in drop_cols]]\n",
    "# this_df = this_df[[c for c in this_df.columns if 'R3' not in c]]  # drop oracle reward methods\n",
    "\n",
    "print('Max percentage points from top performing method across simulation setups WITH ORACLE METHODS:')\n",
    "this_df.subtract(this_df.min(axis=1), axis=0).max(axis=0).sort_values().iloc[:5]"
   ]
  },
  {
   "cell_type": "code",
   "execution_count": 11,
   "id": "f0c31c67-a34d-4054-b503-30faa19c73b3",
   "metadata": {},
   "outputs": [],
   "source": [
    "this_df = full_df_bin\n",
    "\n",
    "this_df = this_df.drop(columns=drop_cols).astype('float').groupby('Sim').mean()\n",
    "this_df = this_df[[c for c in this_df.columns if c not in drop_cols]]\n",
    "this_df = this_df[[c for c in this_df.columns if 'R3' not in c]]  # drop oracle reward methods\n",
    "\n",
    "rankings = {m:[] for m in this_df.columns}\n",
    "for i, row in this_df.iterrows():\n",
    "    this_row = row.sort_values()\n",
    "    these_nan = list(this_row[this_row.isna()].index)\n",
    "    this_order = list(this_row.dropna().index)\n",
    "    for r,v in rankings.items():\n",
    "        v.append(this_order.index(r) if r in this_order else np.nan)\n",
    "        \n",
    "rankings = pd.DataFrame(rankings)\n",
    "for m in rankings.columns:\n",
    "    if 'Multi' in m:\n",
    "        try:\n",
    "            rankings[m] = rankings[m].fillna(rankings[m.replace(' Multi', '')])\n",
    "        except:\n",
    "            rankings[m] = rankings[m].fillna(rankings[m.replace(' Multi', ' (Python)')])"
   ]
  },
  {
   "cell_type": "code",
   "execution_count": 12,
   "id": "9680ed1a-6163-41b1-a8d0-d6c4ae379dd5",
   "metadata": {},
   "outputs": [
    {
     "name": "stdout",
     "output_type": "stream",
     "text": [
      "Total number of simulation setups:\n",
      "32\n",
      "\n",
      "Top performing method counts\n",
      "Our Method                17\n",
      "Linear Inf R1              6\n",
      "Linear Inf Multi R1        5\n",
      "Linear BOWL R1             3\n",
      "RF Q-learning (Python)     2\n",
      "dtype: int64\n",
      "\n",
      "In top 4 performing method counts\n",
      "Our Method                 29\n",
      "Linear Inf R1              17\n",
      "Linear Q-learning Multi    11\n",
      "SV Q-learning Multi        11\n",
      "Linear Inf Multi R2         9\n",
      "dtype: int64\n",
      "\n",
      "Max percentage points from top performing method across simulation setups WITHOUT ORACLE METHODS:\n",
      "Our Method             0.100600\n",
      "CRR R2                 0.368176\n",
      "Linear Inf Multi R2    0.379050\n",
      "CRR R1                 0.384400\n",
      "CQL R1                 0.386500\n",
      "dtype: float64\n",
      "\n"
     ]
    }
   ],
   "source": [
    "print('Total number of simulation setups:')\n",
    "print(rankings.shape[0])\n",
    "print()\n",
    "print('Top performing method counts')\n",
    "print((rankings <= 0).sum().sort_values(ascending=False).iloc[:5])\n",
    "print()\n",
    "print('In top 4 performing method counts')\n",
    "print((rankings <= 3).sum().sort_values(ascending=False).iloc[:5])\n",
    "print()\n",
    "print('Max percentage points from top performing method across simulation setups WITHOUT ORACLE METHODS:')\n",
    "print(this_df.subtract(this_df.min(axis=1), axis=0).max(axis=0).sort_values().iloc[:5])\n",
    "print()"
   ]
  },
  {
   "cell_type": "code",
   "execution_count": 13,
   "id": "84daed37-5f28-4cc4-8ab0-774dc5c8e729",
   "metadata": {},
   "outputs": [
    {
     "name": "stdout",
     "output_type": "stream",
     "text": [
      "Max percentage points from top performing method across simulation setups WITH ORACLE METHODS:\n"
     ]
    },
    {
     "data": {
      "text/plain": [
       "Our Method             0.150000\n",
       "Linear Inf Multi R3    0.229050\n",
       "SV Inf Multi R3        0.299700\n",
       "CRR R3                 0.360176\n",
       "CQL R3                 0.378450\n",
       "dtype: float64"
      ]
     },
     "execution_count": 13,
     "metadata": {},
     "output_type": "execute_result"
    }
   ],
   "source": [
    "this_df = full_df_bin\n",
    "this_df = this_df.drop(columns=drop_cols).astype('float').groupby('Sim').mean()\n",
    "this_df = this_df[[c for c in this_df.columns if c not in drop_cols]]\n",
    "# this_df = this_df[[c for c in this_df.columns if 'R3' not in c]]  # drop oracle reward methods\n",
    "\n",
    "print('Max percentage points from top performing method across simulation setups WITH ORACLE METHODS:')\n",
    "this_df.subtract(this_df.min(axis=1), axis=0).max(axis=0).sort_values().iloc[:5]"
   ]
  },
  {
   "cell_type": "code",
   "execution_count": 14,
   "id": "9886d5c2-0cd2-4231-9199-0a5cd573f3d0",
   "metadata": {},
   "outputs": [],
   "source": [
    "dgp = 'informed'\n",
    "\n",
    "keep_rows = (full_df_bin['DGP'] == dgp)\n",
    "this_df = full_df_bin[keep_rows]\n",
    "\n",
    "this_df = this_df.drop(columns=drop_cols).astype('float').groupby('Sim').mean()\n",
    "this_df = this_df[[c for c in this_df.columns if c not in drop_cols]]\n",
    "this_df = this_df[[c for c in this_df.columns if 'R3' not in c]]  # drop oracle reward methods\n",
    "\n",
    "rankings = {m:[] for m in this_df.columns}\n",
    "for i, row in this_df.iterrows():\n",
    "    this_row = row.sort_values()\n",
    "    these_nan = list(this_row[this_row.isna()].index)\n",
    "    this_order = list(this_row.dropna().index)\n",
    "    for r,v in rankings.items():\n",
    "        v.append(this_order.index(r) if r in this_order else np.nan)\n",
    "        \n",
    "rankings = pd.DataFrame(rankings)\n",
    "for m in rankings.columns:\n",
    "    if 'Multi' in m:\n",
    "        try:\n",
    "            rankings[m] = rankings[m].fillna(rankings[m.replace(' Multi', '')])\n",
    "        except:\n",
    "            rankings[m] = rankings[m].fillna(rankings[m.replace(' Multi', ' (Python)')])"
   ]
  },
  {
   "cell_type": "code",
   "execution_count": 15,
   "id": "ac39f4d1-6a8d-49f6-8b44-649fa0b4f4ea",
   "metadata": {},
   "outputs": [
    {
     "name": "stdout",
     "output_type": "stream",
     "text": [
      "Total number of simulation setups:\n",
      "16\n",
      "\n",
      "Top performing method counts\n",
      "Our Method                12\n",
      "Linear BOWL R1             2\n",
      "RF Q-learning (Python)     1\n",
      "SV Q-learning (Python)     1\n",
      "RF Q-learning Multi        1\n",
      "dtype: int64\n",
      "\n",
      "In top 4 performing method counts\n",
      "Our Method             15\n",
      "Linear Inf R1           8\n",
      "Linear Inf Multi R2     6\n",
      "Linear Inf R2           6\n",
      "SV Q-learning Multi     5\n",
      "dtype: int64\n",
      "\n",
      "Max percentage points from top performing method across simulation setups WITHOUT ORACLE METHODS:\n",
      "Our Method             0.079550\n",
      "BCQ R2                 0.281824\n",
      "SAC R2                 0.299100\n",
      "BCQ R1                 0.300666\n",
      "Linear Inf Multi R2    0.305050\n",
      "dtype: float64\n",
      "\n"
     ]
    }
   ],
   "source": [
    "print('Total number of simulation setups:')\n",
    "print(rankings.shape[0])\n",
    "print()\n",
    "print('Top performing method counts')\n",
    "print((rankings <= 0).sum().sort_values(ascending=False).iloc[:5])\n",
    "print()\n",
    "print('In top 4 performing method counts')\n",
    "print((rankings <= 3).sum().sort_values(ascending=False).iloc[:5])\n",
    "print()\n",
    "print('Max percentage points from top performing method across simulation setups WITHOUT ORACLE METHODS:')\n",
    "print(this_df.subtract(this_df.min(axis=1), axis=0).max(axis=0).sort_values().iloc[:5])\n",
    "print()"
   ]
  },
  {
   "cell_type": "code",
   "execution_count": 16,
   "id": "01d25a25-a5c2-46de-b4fc-4ea1450a2db3",
   "metadata": {},
   "outputs": [],
   "source": [
    "dgp = 'random'\n",
    "\n",
    "keep_rows = (full_df_bin['DGP'] == dgp)\n",
    "this_df = full_df_bin[keep_rows]\n",
    "\n",
    "this_df = this_df.drop(columns=drop_cols).astype('float').groupby('Sim').mean()\n",
    "this_df = this_df[[c for c in this_df.columns if c not in drop_cols]]\n",
    "this_df = this_df[[c for c in this_df.columns if 'R3' not in c]]  # drop oracle reward methods\n",
    "\n",
    "rankings = {m:[] for m in this_df.columns}\n",
    "for i, row in this_df.iterrows():\n",
    "    this_row = row.sort_values()\n",
    "    these_nan = list(this_row[this_row.isna()].index)\n",
    "    this_order = list(this_row.dropna().index)\n",
    "    for r,v in rankings.items():\n",
    "        v.append(this_order.index(r) if r in this_order else np.nan)\n",
    "        \n",
    "rankings = pd.DataFrame(rankings)\n",
    "for m in rankings.columns:\n",
    "    if 'Multi' in m:\n",
    "        try:\n",
    "            rankings[m] = rankings[m].fillna(rankings[m.replace(' Multi', '')])\n",
    "        except:\n",
    "            rankings[m] = rankings[m].fillna(rankings[m.replace(' Multi', ' (Python)')])"
   ]
  },
  {
   "cell_type": "code",
   "execution_count": 17,
   "id": "c941d3ef-7428-434b-b4b4-2201697f2192",
   "metadata": {},
   "outputs": [
    {
     "name": "stdout",
     "output_type": "stream",
     "text": [
      "Total number of simulation setups:\n",
      "16\n",
      "\n",
      "Top performing method counts\n",
      "Linear Inf R1              6\n",
      "Our Method                 5\n",
      "Linear Inf Multi R1        5\n",
      "SAC R1                     2\n",
      "Linear Q-learning Multi    1\n",
      "dtype: int64\n",
      "\n",
      "In top 4 performing method counts\n",
      "Our Method                 14\n",
      "Linear Inf R1               9\n",
      "Linear Q-learning Multi     9\n",
      "RF Inf R1                   7\n",
      "SV Q-learning Multi         6\n",
      "dtype: int64\n",
      "\n",
      "Max percentage points from top performing method across simulation setups WITHOUT ORACLE METHODS:\n",
      "Our Method       0.10060\n",
      "Linear Inf R1    0.28600\n",
      "Linear Inf R2    0.32675\n",
      "RF Inf R1        0.34015\n",
      "SV Inf R1        0.34385\n",
      "dtype: float64\n",
      "\n"
     ]
    }
   ],
   "source": [
    "print('Total number of simulation setups:')\n",
    "print(rankings.shape[0])\n",
    "print()\n",
    "print('Top performing method counts')\n",
    "print((rankings <= 0).sum().sort_values(ascending=False).iloc[:5])\n",
    "print()\n",
    "print('In top 4 performing method counts')\n",
    "print((rankings <= 3).sum().sort_values(ascending=False).iloc[:5])\n",
    "print()\n",
    "print('Max percentage points from top performing method across simulation setups WITHOUT ORACLE METHODS:')\n",
    "print(this_df.subtract(this_df.min(axis=1), axis=0).max(axis=0).sort_values().iloc[:5])\n",
    "print()"
   ]
  },
  {
   "cell_type": "code",
   "execution_count": null,
   "id": "c949c061-abca-480d-8ce7-65155452acb4",
   "metadata": {},
   "outputs": [],
   "source": []
  }
 ],
 "metadata": {
  "kernelspec": {
   "display_name": "Python 3 (ipykernel)",
   "language": "python",
   "name": "python3"
  },
  "language_info": {
   "codemirror_mode": {
    "name": "ipython",
    "version": 3
   },
   "file_extension": ".py",
   "mimetype": "text/x-python",
   "name": "python",
   "nbconvert_exporter": "python",
   "pygments_lexer": "ipython3",
   "version": "3.10.13"
  }
 },
 "nbformat": 4,
 "nbformat_minor": 5
}
